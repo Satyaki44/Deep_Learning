{
 "cells": [
  {
   "cell_type": "code",
   "execution_count": 1,
   "metadata": {},
   "outputs": [],
   "source": [
    "#importing basic libraries\n",
    "import numpy as np\n",
    "import pandas as pd\n",
    "import seaborn as sns\n",
    "import matplotlib.pyplot as plt"
   ]
  },
  {
   "cell_type": "markdown",
   "metadata": {},
   "source": [
    "## EDA"
   ]
  },
  {
   "cell_type": "code",
   "execution_count": 2,
   "metadata": {},
   "outputs": [],
   "source": [
    "#importing data set\n",
    "df=pd.read_csv(\"Churn_Modelling.csv\")"
   ]
  },
  {
   "cell_type": "code",
   "execution_count": 3,
   "metadata": {},
   "outputs": [
    {
     "data": {
      "text/html": [
       "<div>\n",
       "<style scoped>\n",
       "    .dataframe tbody tr th:only-of-type {\n",
       "        vertical-align: middle;\n",
       "    }\n",
       "\n",
       "    .dataframe tbody tr th {\n",
       "        vertical-align: top;\n",
       "    }\n",
       "\n",
       "    .dataframe thead th {\n",
       "        text-align: right;\n",
       "    }\n",
       "</style>\n",
       "<table border=\"1\" class=\"dataframe\">\n",
       "  <thead>\n",
       "    <tr style=\"text-align: right;\">\n",
       "      <th></th>\n",
       "      <th>RowNumber</th>\n",
       "      <th>CustomerId</th>\n",
       "      <th>Surname</th>\n",
       "      <th>CreditScore</th>\n",
       "      <th>Geography</th>\n",
       "      <th>Gender</th>\n",
       "      <th>Age</th>\n",
       "      <th>Tenure</th>\n",
       "      <th>Balance</th>\n",
       "      <th>NumOfProducts</th>\n",
       "      <th>HasCrCard</th>\n",
       "      <th>IsActiveMember</th>\n",
       "      <th>EstimatedSalary</th>\n",
       "      <th>Exited</th>\n",
       "    </tr>\n",
       "  </thead>\n",
       "  <tbody>\n",
       "    <tr>\n",
       "      <th>0</th>\n",
       "      <td>1</td>\n",
       "      <td>15634602</td>\n",
       "      <td>Hargrave</td>\n",
       "      <td>619</td>\n",
       "      <td>France</td>\n",
       "      <td>Female</td>\n",
       "      <td>42</td>\n",
       "      <td>2</td>\n",
       "      <td>0.00</td>\n",
       "      <td>1</td>\n",
       "      <td>1</td>\n",
       "      <td>1</td>\n",
       "      <td>101348.88</td>\n",
       "      <td>1</td>\n",
       "    </tr>\n",
       "    <tr>\n",
       "      <th>1</th>\n",
       "      <td>2</td>\n",
       "      <td>15647311</td>\n",
       "      <td>Hill</td>\n",
       "      <td>608</td>\n",
       "      <td>Spain</td>\n",
       "      <td>Female</td>\n",
       "      <td>41</td>\n",
       "      <td>1</td>\n",
       "      <td>83807.86</td>\n",
       "      <td>1</td>\n",
       "      <td>0</td>\n",
       "      <td>1</td>\n",
       "      <td>112542.58</td>\n",
       "      <td>0</td>\n",
       "    </tr>\n",
       "    <tr>\n",
       "      <th>2</th>\n",
       "      <td>3</td>\n",
       "      <td>15619304</td>\n",
       "      <td>Onio</td>\n",
       "      <td>502</td>\n",
       "      <td>France</td>\n",
       "      <td>Female</td>\n",
       "      <td>42</td>\n",
       "      <td>8</td>\n",
       "      <td>159660.80</td>\n",
       "      <td>3</td>\n",
       "      <td>1</td>\n",
       "      <td>0</td>\n",
       "      <td>113931.57</td>\n",
       "      <td>1</td>\n",
       "    </tr>\n",
       "    <tr>\n",
       "      <th>3</th>\n",
       "      <td>4</td>\n",
       "      <td>15701354</td>\n",
       "      <td>Boni</td>\n",
       "      <td>699</td>\n",
       "      <td>France</td>\n",
       "      <td>Female</td>\n",
       "      <td>39</td>\n",
       "      <td>1</td>\n",
       "      <td>0.00</td>\n",
       "      <td>2</td>\n",
       "      <td>0</td>\n",
       "      <td>0</td>\n",
       "      <td>93826.63</td>\n",
       "      <td>0</td>\n",
       "    </tr>\n",
       "    <tr>\n",
       "      <th>4</th>\n",
       "      <td>5</td>\n",
       "      <td>15737888</td>\n",
       "      <td>Mitchell</td>\n",
       "      <td>850</td>\n",
       "      <td>Spain</td>\n",
       "      <td>Female</td>\n",
       "      <td>43</td>\n",
       "      <td>2</td>\n",
       "      <td>125510.82</td>\n",
       "      <td>1</td>\n",
       "      <td>1</td>\n",
       "      <td>1</td>\n",
       "      <td>79084.10</td>\n",
       "      <td>0</td>\n",
       "    </tr>\n",
       "  </tbody>\n",
       "</table>\n",
       "</div>"
      ],
      "text/plain": [
       "   RowNumber  CustomerId   Surname  CreditScore Geography  Gender  Age  \\\n",
       "0          1    15634602  Hargrave          619    France  Female   42   \n",
       "1          2    15647311      Hill          608     Spain  Female   41   \n",
       "2          3    15619304      Onio          502    France  Female   42   \n",
       "3          4    15701354      Boni          699    France  Female   39   \n",
       "4          5    15737888  Mitchell          850     Spain  Female   43   \n",
       "\n",
       "   Tenure    Balance  NumOfProducts  HasCrCard  IsActiveMember  \\\n",
       "0       2       0.00              1          1               1   \n",
       "1       1   83807.86              1          0               1   \n",
       "2       8  159660.80              3          1               0   \n",
       "3       1       0.00              2          0               0   \n",
       "4       2  125510.82              1          1               1   \n",
       "\n",
       "   EstimatedSalary  Exited  \n",
       "0        101348.88       1  \n",
       "1        112542.58       0  \n",
       "2        113931.57       1  \n",
       "3         93826.63       0  \n",
       "4         79084.10       0  "
      ]
     },
     "execution_count": 3,
     "metadata": {},
     "output_type": "execute_result"
    }
   ],
   "source": [
    "df.head(5)"
   ]
  },
  {
   "cell_type": "code",
   "execution_count": 4,
   "metadata": {},
   "outputs": [
    {
     "data": {
      "text/plain": [
       "(10000, 14)"
      ]
     },
     "execution_count": 4,
     "metadata": {},
     "output_type": "execute_result"
    }
   ],
   "source": [
    "df.shape"
   ]
  },
  {
   "cell_type": "code",
   "execution_count": 5,
   "metadata": {},
   "outputs": [
    {
     "name": "stdout",
     "output_type": "stream",
     "text": [
      "<class 'pandas.core.frame.DataFrame'>\n",
      "RangeIndex: 10000 entries, 0 to 9999\n",
      "Data columns (total 14 columns):\n",
      " #   Column           Non-Null Count  Dtype  \n",
      "---  ------           --------------  -----  \n",
      " 0   RowNumber        10000 non-null  int64  \n",
      " 1   CustomerId       10000 non-null  int64  \n",
      " 2   Surname          10000 non-null  object \n",
      " 3   CreditScore      10000 non-null  int64  \n",
      " 4   Geography        10000 non-null  object \n",
      " 5   Gender           10000 non-null  object \n",
      " 6   Age              10000 non-null  int64  \n",
      " 7   Tenure           10000 non-null  int64  \n",
      " 8   Balance          10000 non-null  float64\n",
      " 9   NumOfProducts    10000 non-null  int64  \n",
      " 10  HasCrCard        10000 non-null  int64  \n",
      " 11  IsActiveMember   10000 non-null  int64  \n",
      " 12  EstimatedSalary  10000 non-null  float64\n",
      " 13  Exited           10000 non-null  int64  \n",
      "dtypes: float64(2), int64(9), object(3)\n",
      "memory usage: 1.1+ MB\n"
     ]
    }
   ],
   "source": [
    "df.info()"
   ]
  },
  {
   "cell_type": "code",
   "execution_count": 6,
   "metadata": {},
   "outputs": [],
   "source": [
    "X=df.iloc[:,3:13]\n",
    "Y=df.iloc[:,-1]"
   ]
  },
  {
   "cell_type": "code",
   "execution_count": 7,
   "metadata": {},
   "outputs": [],
   "source": [
    "#Create dummy variables\n",
    "geography=pd.get_dummies(X[\"Geography\"],drop_first=True)\n",
    "gender=pd.get_dummies(X['Gender'],drop_first=True)"
   ]
  },
  {
   "cell_type": "code",
   "execution_count": 8,
   "metadata": {},
   "outputs": [],
   "source": [
    "## Concatenate the Data Frames\n",
    "X=pd.concat([X,geography,gender],axis=1)"
   ]
  },
  {
   "cell_type": "code",
   "execution_count": 9,
   "metadata": {},
   "outputs": [],
   "source": [
    "## Drop Unnecessary columns\n",
    "X=X.drop(['Geography','Gender'],axis=1)"
   ]
  },
  {
   "cell_type": "code",
   "execution_count": 11,
   "metadata": {},
   "outputs": [],
   "source": [
    "# Splitting the dataset into the Training set and Test set\n",
    "from sklearn.model_selection import train_test_split\n",
    "X_train, X_test, y_train, y_test = train_test_split(X, Y, test_size = 0.2, random_state = 0)"
   ]
  },
  {
   "cell_type": "code",
   "execution_count": 12,
   "metadata": {},
   "outputs": [],
   "source": [
    "# Feature Scaling\n",
    "from sklearn.preprocessing import StandardScaler\n",
    "sc = StandardScaler()\n",
    "X_train = sc.fit_transform(X_train)\n",
    "X_test = sc.transform(X_test)"
   ]
  },
  {
   "cell_type": "markdown",
   "metadata": {},
   "source": [
    "## DL MODEL (ANN)"
   ]
  },
  {
   "cell_type": "code",
   "execution_count": 14,
   "metadata": {},
   "outputs": [],
   "source": [
    "# Importing the Keras libraries and packages\n",
    "import keras\n",
    "from keras.models import Sequential\n",
    "from keras.layers import Dense\n",
    "from keras.layers import LeakyReLU,PReLU,ELU\n",
    "from keras.layers import Dropout"
   ]
  },
  {
   "cell_type": "code",
   "execution_count": 15,
   "metadata": {},
   "outputs": [],
   "source": [
    "# Initialising the ANN\n",
    "classifier = Sequential()"
   ]
  },
  {
   "cell_type": "code",
   "execution_count": 17,
   "metadata": {},
   "outputs": [],
   "source": [
    "# Adding the input layer and the first hidden layer\n",
    "classifier.add(Dense(input_dim = 11,units = 6, kernel_initializer = 'he_uniform',activation='relu'))"
   ]
  },
  {
   "cell_type": "code",
   "execution_count": 18,
   "metadata": {},
   "outputs": [],
   "source": [
    "#Adding the second hidden layer\n",
    "classifier.add(Dense(units = 6, kernel_initializer = 'he_uniform',activation='relu'))"
   ]
  },
  {
   "cell_type": "code",
   "execution_count": 19,
   "metadata": {},
   "outputs": [],
   "source": [
    "# Adding the output layer\n",
    "classifier.add(Dense(units = 1,  kernel_initializer = 'glorot_uniform', activation = 'sigmoid'))"
   ]
  },
  {
   "cell_type": "code",
   "execution_count": 20,
   "metadata": {},
   "outputs": [],
   "source": [
    "# Compiling the ANN\n",
    "classifier.compile(optimizer = 'Adamax', loss = 'binary_crossentropy', metrics = ['accuracy'])"
   ]
  },
  {
   "cell_type": "code",
   "execution_count": 22,
   "metadata": {},
   "outputs": [
    {
     "name": "stdout",
     "output_type": "stream",
     "text": [
      "Epoch 1/100\n",
      "536/536 [==============================] - 1s 2ms/step - loss: 0.6044 - accuracy: 0.7947 - val_loss: 0.5837 - val_accuracy: 0.7955\n",
      "Epoch 2/100\n",
      "536/536 [==============================] - 1s 1ms/step - loss: 0.5561 - accuracy: 0.7962 - val_loss: 0.5477 - val_accuracy: 0.7955\n",
      "Epoch 3/100\n",
      "536/536 [==============================] - 1s 1ms/step - loss: 0.5244 - accuracy: 0.7962 - val_loss: 0.5232 - val_accuracy: 0.7955\n",
      "Epoch 4/100\n",
      "536/536 [==============================] - 1s 1ms/step - loss: 0.5029 - accuracy: 0.7962 - val_loss: 0.5059 - val_accuracy: 0.7955\n",
      "Epoch 5/100\n",
      "536/536 [==============================] - 1s 1ms/step - loss: 0.4861 - accuracy: 0.7962 - val_loss: 0.4916 - val_accuracy: 0.7955\n",
      "Epoch 6/100\n",
      "536/536 [==============================] - 1s 1ms/step - loss: 0.4737 - accuracy: 0.7962 - val_loss: 0.4812 - val_accuracy: 0.7955\n",
      "Epoch 7/100\n",
      "536/536 [==============================] - 1s 1ms/step - loss: 0.4640 - accuracy: 0.7962 - val_loss: 0.4728 - val_accuracy: 0.7955\n",
      "Epoch 8/100\n",
      "536/536 [==============================] - 1s 1ms/step - loss: 0.4564 - accuracy: 0.7962 - val_loss: 0.4663 - val_accuracy: 0.7955\n",
      "Epoch 9/100\n",
      "536/536 [==============================] - 1s 1ms/step - loss: 0.4505 - accuracy: 0.7962 - val_loss: 0.4614 - val_accuracy: 0.7955\n",
      "Epoch 10/100\n",
      "536/536 [==============================] - 1s 1ms/step - loss: 0.4458 - accuracy: 0.7962 - val_loss: 0.4575 - val_accuracy: 0.7955\n",
      "Epoch 11/100\n",
      "536/536 [==============================] - 1s 1ms/step - loss: 0.4419 - accuracy: 0.7962 - val_loss: 0.4544 - val_accuracy: 0.7955\n",
      "Epoch 12/100\n",
      "536/536 [==============================] - 1s 1ms/step - loss: 0.4388 - accuracy: 0.7962 - val_loss: 0.4519 - val_accuracy: 0.7955\n",
      "Epoch 13/100\n",
      "536/536 [==============================] - 1s 1ms/step - loss: 0.4363 - accuracy: 0.7962 - val_loss: 0.4498 - val_accuracy: 0.7955\n",
      "Epoch 14/100\n",
      "536/536 [==============================] - 1s 1ms/step - loss: 0.4343 - accuracy: 0.7962 - val_loss: 0.4479 - val_accuracy: 0.7955\n",
      "Epoch 15/100\n",
      "536/536 [==============================] - 1s 1ms/step - loss: 0.4326 - accuracy: 0.7962 - val_loss: 0.4465 - val_accuracy: 0.7955\n",
      "Epoch 16/100\n",
      "536/536 [==============================] - 1s 1ms/step - loss: 0.4311 - accuracy: 0.7962 - val_loss: 0.4454 - val_accuracy: 0.7955\n",
      "Epoch 17/100\n",
      "536/536 [==============================] - 1s 1ms/step - loss: 0.4299 - accuracy: 0.7962 - val_loss: 0.4442 - val_accuracy: 0.7955\n",
      "Epoch 18/100\n",
      "536/536 [==============================] - 1s 1ms/step - loss: 0.4288 - accuracy: 0.7962 - val_loss: 0.4432 - val_accuracy: 0.7955\n",
      "Epoch 19/100\n",
      "536/536 [==============================] - 1s 1ms/step - loss: 0.4277 - accuracy: 0.7962 - val_loss: 0.4421 - val_accuracy: 0.7955\n",
      "Epoch 20/100\n",
      "536/536 [==============================] - 1s 1ms/step - loss: 0.4266 - accuracy: 0.7962 - val_loss: 0.4413 - val_accuracy: 0.7955\n",
      "Epoch 21/100\n",
      "536/536 [==============================] - 1s 1ms/step - loss: 0.4256 - accuracy: 0.7962 - val_loss: 0.4400 - val_accuracy: 0.7955\n",
      "Epoch 22/100\n",
      "536/536 [==============================] - 1s 1ms/step - loss: 0.4246 - accuracy: 0.8121 - val_loss: 0.4392 - val_accuracy: 0.8126\n",
      "Epoch 23/100\n",
      "536/536 [==============================] - 1s 1ms/step - loss: 0.4238 - accuracy: 0.8197 - val_loss: 0.4384 - val_accuracy: 0.8141\n",
      "Epoch 24/100\n",
      "536/536 [==============================] - 1s 1ms/step - loss: 0.4229 - accuracy: 0.8212 - val_loss: 0.4377 - val_accuracy: 0.8156\n",
      "Epoch 25/100\n",
      "536/536 [==============================] - 1s 1ms/step - loss: 0.4221 - accuracy: 0.8216 - val_loss: 0.4368 - val_accuracy: 0.8148\n",
      "Epoch 26/100\n",
      "536/536 [==============================] - 1s 1ms/step - loss: 0.4212 - accuracy: 0.8218 - val_loss: 0.4363 - val_accuracy: 0.8148\n",
      "Epoch 27/100\n",
      "536/536 [==============================] - 1s 1ms/step - loss: 0.4203 - accuracy: 0.8242 - val_loss: 0.4357 - val_accuracy: 0.8160\n",
      "Epoch 28/100\n",
      "536/536 [==============================] - 1s 1ms/step - loss: 0.4196 - accuracy: 0.8250 - val_loss: 0.4347 - val_accuracy: 0.8156\n",
      "Epoch 29/100\n",
      "536/536 [==============================] - 1s 1ms/step - loss: 0.4190 - accuracy: 0.8263 - val_loss: 0.4342 - val_accuracy: 0.8164\n",
      "Epoch 30/100\n",
      "536/536 [==============================] - 1s 1ms/step - loss: 0.4182 - accuracy: 0.8250 - val_loss: 0.4336 - val_accuracy: 0.8160\n",
      "Epoch 31/100\n",
      "536/536 [==============================] - 1s 1ms/step - loss: 0.4174 - accuracy: 0.8259 - val_loss: 0.4331 - val_accuracy: 0.8167\n",
      "Epoch 32/100\n",
      "536/536 [==============================] - 1s 992us/step - loss: 0.4167 - accuracy: 0.8261 - val_loss: 0.4325 - val_accuracy: 0.8171\n",
      "Epoch 33/100\n",
      "536/536 [==============================] - 1s 1ms/step - loss: 0.4159 - accuracy: 0.8257 - val_loss: 0.4317 - val_accuracy: 0.8156\n",
      "Epoch 34/100\n",
      "536/536 [==============================] - 1s 1ms/step - loss: 0.4151 - accuracy: 0.8274 - val_loss: 0.4310 - val_accuracy: 0.8160\n",
      "Epoch 35/100\n",
      "536/536 [==============================] - 1s 1ms/step - loss: 0.4143 - accuracy: 0.8278 - val_loss: 0.4303 - val_accuracy: 0.8152\n",
      "Epoch 36/100\n",
      "536/536 [==============================] - 1s 1ms/step - loss: 0.4134 - accuracy: 0.8274 - val_loss: 0.4295 - val_accuracy: 0.8167\n",
      "Epoch 37/100\n",
      "536/536 [==============================] - 1s 988us/step - loss: 0.4126 - accuracy: 0.8291 - val_loss: 0.4289 - val_accuracy: 0.8186\n",
      "Epoch 38/100\n",
      "536/536 [==============================] - 1s 983us/step - loss: 0.4117 - accuracy: 0.8280 - val_loss: 0.4280 - val_accuracy: 0.8183\n",
      "Epoch 39/100\n",
      "536/536 [==============================] - 1s 1ms/step - loss: 0.4108 - accuracy: 0.8276 - val_loss: 0.4271 - val_accuracy: 0.8190\n",
      "Epoch 40/100\n",
      "536/536 [==============================] - 1s 975us/step - loss: 0.4097 - accuracy: 0.8293 - val_loss: 0.4261 - val_accuracy: 0.8201\n",
      "Epoch 41/100\n",
      "536/536 [==============================] - 1s 1ms/step - loss: 0.4087 - accuracy: 0.8287 - val_loss: 0.4251 - val_accuracy: 0.8201\n",
      "Epoch 42/100\n",
      "536/536 [==============================] - 1s 1ms/step - loss: 0.4078 - accuracy: 0.8283 - val_loss: 0.4242 - val_accuracy: 0.8190\n",
      "Epoch 43/100\n",
      "536/536 [==============================] - 1s 1ms/step - loss: 0.4067 - accuracy: 0.8296 - val_loss: 0.4232 - val_accuracy: 0.8201\n",
      "Epoch 44/100\n",
      "536/536 [==============================] - 1s 994us/step - loss: 0.4059 - accuracy: 0.8294 - val_loss: 0.4222 - val_accuracy: 0.8186\n",
      "Epoch 45/100\n",
      "536/536 [==============================] - 1s 1ms/step - loss: 0.4048 - accuracy: 0.8293 - val_loss: 0.4211 - val_accuracy: 0.8186\n",
      "Epoch 46/100\n",
      "536/536 [==============================] - 1s 1ms/step - loss: 0.4038 - accuracy: 0.8306 - val_loss: 0.4201 - val_accuracy: 0.8179\n",
      "Epoch 47/100\n",
      "536/536 [==============================] - 1s 1ms/step - loss: 0.4029 - accuracy: 0.8309 - val_loss: 0.4192 - val_accuracy: 0.8179\n",
      "Epoch 48/100\n",
      "536/536 [==============================] - 1s 1ms/step - loss: 0.4018 - accuracy: 0.8309 - val_loss: 0.4181 - val_accuracy: 0.8205\n",
      "Epoch 49/100\n",
      "536/536 [==============================] - 1s 1ms/step - loss: 0.4007 - accuracy: 0.8319 - val_loss: 0.4171 - val_accuracy: 0.8205\n",
      "Epoch 50/100\n",
      "536/536 [==============================] - 1s 1ms/step - loss: 0.3997 - accuracy: 0.8317 - val_loss: 0.4161 - val_accuracy: 0.8209\n",
      "Epoch 51/100\n",
      "536/536 [==============================] - 1s 2ms/step - loss: 0.3986 - accuracy: 0.8336 - val_loss: 0.4152 - val_accuracy: 0.8205\n",
      "Epoch 52/100\n",
      "536/536 [==============================] - 1s 1ms/step - loss: 0.3975 - accuracy: 0.8332 - val_loss: 0.4142 - val_accuracy: 0.8205\n",
      "Epoch 53/100\n",
      "536/536 [==============================] - 1s 1ms/step - loss: 0.3963 - accuracy: 0.8336 - val_loss: 0.4133 - val_accuracy: 0.8205\n",
      "Epoch 54/100\n",
      "536/536 [==============================] - 1s 1ms/step - loss: 0.3952 - accuracy: 0.8339 - val_loss: 0.4123 - val_accuracy: 0.8209\n",
      "Epoch 55/100\n",
      "536/536 [==============================] - 1s 1ms/step - loss: 0.3940 - accuracy: 0.8339 - val_loss: 0.4113 - val_accuracy: 0.8213\n",
      "Epoch 56/100\n",
      "536/536 [==============================] - 1s 982us/step - loss: 0.3930 - accuracy: 0.8345 - val_loss: 0.4104 - val_accuracy: 0.8213\n",
      "Epoch 57/100\n",
      "536/536 [==============================] - 1s 966us/step - loss: 0.3920 - accuracy: 0.8347 - val_loss: 0.4095 - val_accuracy: 0.8236\n"
     ]
    },
    {
     "name": "stdout",
     "output_type": "stream",
     "text": [
      "Epoch 58/100\n",
      "536/536 [==============================] - 1s 971us/step - loss: 0.3908 - accuracy: 0.8358 - val_loss: 0.4086 - val_accuracy: 0.8236\n",
      "Epoch 59/100\n",
      "536/536 [==============================] - 1s 966us/step - loss: 0.3898 - accuracy: 0.8365 - val_loss: 0.4076 - val_accuracy: 0.8236\n",
      "Epoch 60/100\n",
      "536/536 [==============================] - 1s 992us/step - loss: 0.3887 - accuracy: 0.8362 - val_loss: 0.4068 - val_accuracy: 0.8254\n",
      "Epoch 61/100\n",
      "536/536 [==============================] - 1s 1ms/step - loss: 0.3876 - accuracy: 0.8378 - val_loss: 0.4060 - val_accuracy: 0.8247\n",
      "Epoch 62/100\n",
      "536/536 [==============================] - 1s 973us/step - loss: 0.3867 - accuracy: 0.8382 - val_loss: 0.4050 - val_accuracy: 0.8262\n",
      "Epoch 63/100\n",
      "536/536 [==============================] - 1s 984us/step - loss: 0.3855 - accuracy: 0.8388 - val_loss: 0.4039 - val_accuracy: 0.8281\n",
      "Epoch 64/100\n",
      "536/536 [==============================] - 1s 1ms/step - loss: 0.3845 - accuracy: 0.8388 - val_loss: 0.4030 - val_accuracy: 0.8289\n",
      "Epoch 65/100\n",
      "536/536 [==============================] - 1s 1ms/step - loss: 0.3834 - accuracy: 0.8399 - val_loss: 0.4021 - val_accuracy: 0.8296\n",
      "Epoch 66/100\n",
      "536/536 [==============================] - 1s 1ms/step - loss: 0.3824 - accuracy: 0.8397 - val_loss: 0.4011 - val_accuracy: 0.8304\n",
      "Epoch 67/100\n",
      "536/536 [==============================] - 1s 1ms/step - loss: 0.3814 - accuracy: 0.8393 - val_loss: 0.4001 - val_accuracy: 0.8307\n",
      "Epoch 68/100\n",
      "536/536 [==============================] - 1s 1ms/step - loss: 0.3803 - accuracy: 0.8399 - val_loss: 0.3990 - val_accuracy: 0.8315\n",
      "Epoch 69/100\n",
      "536/536 [==============================] - 1s 1ms/step - loss: 0.3792 - accuracy: 0.8406 - val_loss: 0.3983 - val_accuracy: 0.8311\n",
      "Epoch 70/100\n",
      "536/536 [==============================] - 1s 1ms/step - loss: 0.3781 - accuracy: 0.8408 - val_loss: 0.3972 - val_accuracy: 0.8326\n",
      "Epoch 71/100\n",
      "536/536 [==============================] - 1s 1ms/step - loss: 0.3771 - accuracy: 0.8414 - val_loss: 0.3964 - val_accuracy: 0.8345\n",
      "Epoch 72/100\n",
      "536/536 [==============================] - 1s 1ms/step - loss: 0.3762 - accuracy: 0.8410 - val_loss: 0.3953 - val_accuracy: 0.8357\n",
      "Epoch 73/100\n",
      "536/536 [==============================] - 1s 1ms/step - loss: 0.3752 - accuracy: 0.8416 - val_loss: 0.3945 - val_accuracy: 0.8364\n",
      "Epoch 74/100\n",
      "536/536 [==============================] - 1s 1ms/step - loss: 0.3741 - accuracy: 0.8433 - val_loss: 0.3938 - val_accuracy: 0.8360\n",
      "Epoch 75/100\n",
      "536/536 [==============================] - 1s 988us/step - loss: 0.3734 - accuracy: 0.8433 - val_loss: 0.3930 - val_accuracy: 0.8364\n",
      "Epoch 76/100\n",
      "536/536 [==============================] - 1s 1ms/step - loss: 0.3725 - accuracy: 0.8442 - val_loss: 0.3921 - val_accuracy: 0.8379\n",
      "Epoch 77/100\n",
      "536/536 [==============================] - 1s 1ms/step - loss: 0.3718 - accuracy: 0.8442 - val_loss: 0.3913 - val_accuracy: 0.8372\n",
      "Epoch 78/100\n",
      "536/536 [==============================] - 1s 1ms/step - loss: 0.3708 - accuracy: 0.8440 - val_loss: 0.3904 - val_accuracy: 0.8376\n",
      "Epoch 79/100\n",
      "536/536 [==============================] - 1s 1ms/step - loss: 0.3700 - accuracy: 0.8453 - val_loss: 0.3897 - val_accuracy: 0.8376\n",
      "Epoch 80/100\n",
      "536/536 [==============================] - 1s 1ms/step - loss: 0.3693 - accuracy: 0.8457 - val_loss: 0.3892 - val_accuracy: 0.8379\n",
      "Epoch 81/100\n",
      "536/536 [==============================] - 1s 1ms/step - loss: 0.3685 - accuracy: 0.8449 - val_loss: 0.3885 - val_accuracy: 0.8387\n",
      "Epoch 82/100\n",
      "536/536 [==============================] - 1s 1ms/step - loss: 0.3678 - accuracy: 0.8461 - val_loss: 0.3875 - val_accuracy: 0.8406\n",
      "Epoch 83/100\n",
      "536/536 [==============================] - 1s 990us/step - loss: 0.3670 - accuracy: 0.8468 - val_loss: 0.3868 - val_accuracy: 0.8398\n",
      "Epoch 84/100\n",
      "536/536 [==============================] - 1s 987us/step - loss: 0.3663 - accuracy: 0.8470 - val_loss: 0.3859 - val_accuracy: 0.8402\n",
      "Epoch 85/100\n",
      "536/536 [==============================] - 1s 977us/step - loss: 0.3656 - accuracy: 0.8475 - val_loss: 0.3857 - val_accuracy: 0.8379\n",
      "Epoch 86/100\n",
      "536/536 [==============================] - 1s 984us/step - loss: 0.3647 - accuracy: 0.8479 - val_loss: 0.3846 - val_accuracy: 0.8398\n",
      "Epoch 87/100\n",
      "536/536 [==============================] - 1s 998us/step - loss: 0.3639 - accuracy: 0.8477 - val_loss: 0.3840 - val_accuracy: 0.8391\n",
      "Epoch 88/100\n",
      "536/536 [==============================] - 1s 1ms/step - loss: 0.3632 - accuracy: 0.8472 - val_loss: 0.3832 - val_accuracy: 0.8395\n",
      "Epoch 89/100\n",
      "536/536 [==============================] - 1s 1ms/step - loss: 0.3624 - accuracy: 0.8481 - val_loss: 0.3825 - val_accuracy: 0.8387\n",
      "Epoch 90/100\n",
      "536/536 [==============================] - 1s 1ms/step - loss: 0.3618 - accuracy: 0.8492 - val_loss: 0.3819 - val_accuracy: 0.8391\n",
      "Epoch 91/100\n",
      "536/536 [==============================] - 1s 1ms/step - loss: 0.3610 - accuracy: 0.8492 - val_loss: 0.3813 - val_accuracy: 0.8379\n",
      "Epoch 92/100\n",
      "536/536 [==============================] - 1s 1ms/step - loss: 0.3603 - accuracy: 0.8500 - val_loss: 0.3807 - val_accuracy: 0.8383\n",
      "Epoch 93/100\n",
      "536/536 [==============================] - 1s 1ms/step - loss: 0.3595 - accuracy: 0.8498 - val_loss: 0.3801 - val_accuracy: 0.8383\n",
      "Epoch 94/100\n",
      "536/536 [==============================] - 1s 1ms/step - loss: 0.3590 - accuracy: 0.8515 - val_loss: 0.3796 - val_accuracy: 0.8387\n",
      "Epoch 95/100\n",
      "536/536 [==============================] - 1s 1ms/step - loss: 0.3581 - accuracy: 0.8511 - val_loss: 0.3794 - val_accuracy: 0.8402\n",
      "Epoch 96/100\n",
      "536/536 [==============================] - 1s 1ms/step - loss: 0.3574 - accuracy: 0.8513 - val_loss: 0.3787 - val_accuracy: 0.8398\n",
      "Epoch 97/100\n",
      "536/536 [==============================] - 1s 1ms/step - loss: 0.3568 - accuracy: 0.8522 - val_loss: 0.3780 - val_accuracy: 0.8402\n",
      "Epoch 98/100\n",
      "536/536 [==============================] - 1s 1ms/step - loss: 0.3562 - accuracy: 0.8526 - val_loss: 0.3776 - val_accuracy: 0.8395\n",
      "Epoch 99/100\n",
      "536/536 [==============================] - 1s 1ms/step - loss: 0.3554 - accuracy: 0.8533 - val_loss: 0.3771 - val_accuracy: 0.8395\n",
      "Epoch 100/100\n",
      "536/536 [==============================] - 1s 1ms/step - loss: 0.3548 - accuracy: 0.8535 - val_loss: 0.3766 - val_accuracy: 0.8413\n"
     ]
    }
   ],
   "source": [
    "# Fitting the ANN to the Training set\n",
    "model_history=classifier.fit(X_train, y_train,validation_split=0.33, batch_size = 10, epochs = 100)"
   ]
  },
  {
   "cell_type": "code",
   "execution_count": 23,
   "metadata": {},
   "outputs": [],
   "source": [
    "# Part 3 - Making the predictions and evaluating the model\n",
    "\n",
    "# Predicting the Test set results\n",
    "y_pred = classifier.predict(X_test)\n",
    "y_pred = (y_pred > 0.5)"
   ]
  },
  {
   "cell_type": "code",
   "execution_count": 27,
   "metadata": {},
   "outputs": [
    {
     "data": {
      "text/plain": [
       "array([[1512,   83],\n",
       "       [ 211,  194]], dtype=int64)"
      ]
     },
     "execution_count": 27,
     "metadata": {},
     "output_type": "execute_result"
    }
   ],
   "source": [
    "# Making the Confusion Matrix\n",
    "from sklearn.metrics import confusion_matrix\n",
    "confusion_matrix(y_test, y_pred)"
   ]
  },
  {
   "cell_type": "code",
   "execution_count": 28,
   "metadata": {},
   "outputs": [
    {
     "data": {
      "text/plain": [
       "0.853"
      ]
     },
     "execution_count": 28,
     "metadata": {},
     "output_type": "execute_result"
    }
   ],
   "source": [
    "# Calculate the Accuracy\n",
    "from sklearn.metrics import accuracy_score\n",
    "accuracy_score(y_pred,y_test)"
   ]
  }
 ],
 "metadata": {
  "kernelspec": {
   "display_name": "Python 3",
   "language": "python",
   "name": "python3"
  },
  "language_info": {
   "codemirror_mode": {
    "name": "ipython",
    "version": 3
   },
   "file_extension": ".py",
   "mimetype": "text/x-python",
   "name": "python",
   "nbconvert_exporter": "python",
   "pygments_lexer": "ipython3",
   "version": "3.8.3"
  }
 },
 "nbformat": 4,
 "nbformat_minor": 4
}
